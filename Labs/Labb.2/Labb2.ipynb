{
 "cells": [
  {
   "cell_type": "code",
   "execution_count": null,
   "metadata": {},
   "outputs": [],
   "source": [
    "import matplotlib as plt\n",
    "\n",
    "path = \"datapoints.txt\"               \n",
    "\n",
    "data_dict = {}                             # Skapar en tom dictionary.\n",
    "\n",
    "\n",
    "with open(path, 'r') as file:              # Öppnar och läser in filen\n",
    "    next(file)                             # Hoppar över HEAD i textfilen.\n",
    "    \n",
    "    for line in file:                       \n",
    "        parts = line.strip().split(',')    # Loopar igenom txt och tar bort whitespaces och splittar lines med kommatecken.\n",
    "        \n",
    "        width = float(parts[0])            # Beskriver postion i txt samt gör om string till float eller integer.\n",
    "        height = float(parts[1])\n",
    "        label = int(parts[2])\n",
    "        \n",
    "        \n",
    "        data_dict[(width, height)] = label\n",
    "\n",
    "print(data_dict)\n",
    "\n",
    "\n",
    "\n",
    "\n",
    "\n",
    "\n",
    "\n",
    "\n",
    "\n",
    "\n",
    "\n",
    "    \n",
    "    \n",
    "    \n",
    "\n",
    "\n"
   ]
  },
  {
   "cell_type": "code",
   "execution_count": 27,
   "metadata": {},
   "outputs": [
    {
     "name": "stdout",
     "output_type": "stream",
     "text": [
      "Test points:\n",
      "1. (25, 32)\n",
      "2. (24.2, 31.5)\n",
      "3. (22, 34)\n",
      "4. (20.5, 34)\n",
      "\n"
     ]
    }
   ],
   "source": [
    "path = \"testpoints.txt\"\n",
    "\n",
    "with open(path, \"r\") as file:\n",
    "    print(file.read())"
   ]
  }
 ],
 "metadata": {
  "kernelspec": {
   "display_name": ".venv",
   "language": "python",
   "name": "python3"
  },
  "language_info": {
   "codemirror_mode": {
    "name": "ipython",
    "version": 3
   },
   "file_extension": ".py",
   "mimetype": "text/x-python",
   "name": "python",
   "nbconvert_exporter": "python",
   "pygments_lexer": "ipython3",
   "version": "3.12.5"
  }
 },
 "nbformat": 4,
 "nbformat_minor": 2
}
