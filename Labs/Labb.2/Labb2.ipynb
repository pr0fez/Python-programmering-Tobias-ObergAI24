{
 "cells": [
  {
   "cell_type": "code",
   "execution_count": 1,
   "metadata": {},
   "outputs": [
    {
     "name": "stdout",
     "output_type": "stream",
     "text": [
      "Test points:\n",
      "1. (25, 32)\n",
      "2. (24.2, 31.5)\n",
      "3. (22, 34)\n",
      "4. (20.5, 34)\n",
      "\n"
     ]
    }
   ],
   "source": [
    "path = \"testpoints.txt\"\n",
    "\n",
    "with open(path, \"r\") as file:\n",
    "    print(file.read())\n",
    "    \n",
    "\n"
   ]
  }
 ],
 "metadata": {
  "kernelspec": {
   "display_name": ".venv",
   "language": "python",
   "name": "python3"
  },
  "language_info": {
   "codemirror_mode": {
    "name": "ipython",
    "version": 3
   },
   "file_extension": ".py",
   "mimetype": "text/x-python",
   "name": "python",
   "nbconvert_exporter": "python",
   "pygments_lexer": "ipython3",
   "version": "3.12.5"
  }
 },
 "nbformat": 4,
 "nbformat_minor": 2
}
