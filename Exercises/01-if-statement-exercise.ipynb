{
 "cells": [
  {
   "cell_type": "markdown",
   "metadata": {},
   "source": [
    "\n",
    "<a href=\"https://colab.research.google.com/github/pr0fez/AI24-Programmering/blob/master/Exercises/01-if-statement-exercise.ipynb\" target=\"_parent\"><img align=\"left\" src=\"https://colab.research.google.com/assets/colab-badge.svg\" alt=\"Open In Colab\"/></a> &nbsp; to see hints and answers."
   ]
  },
  {
   "cell_type": "markdown",
   "metadata": {},
   "source": [
    "# if statements exercises\n",
    "\n",
    "---\n",
    "These are introductory exercises in Python with focus in **if** statement.\n",
    "\n",
    "<p class = \"alert alert-info\" role=\"alert\"><b>Remember</b> to use <b>descriptive variable names</b> in order to get readable code </p>\n",
    "\n",
    "<p class = \"alert alert-info\" role=\"alert\"><b>Remember</b> to format your answers in a neat way using <b>f-strings</b>\n",
    "\n",
    "<p class = \"alert alert-info\" role=\"alert\"><b>Remember</b> to format your input questions in a pedagogical way to guide the user\n",
    "\n",
    "The number of stars (\\*), (\\*\\*), (\\*\\*\\*) denotes the difficulty level of the task\n",
    "\n",
    "---"
   ]
  },
  {
   "cell_type": "markdown",
   "metadata": {},
   "source": [
    "## 1. Check sign (*)\n",
    "\n",
    "Ask the user to input a number and check if this number is **positive**, **negative** or **zero** and print it out."
   ]
  },
  {
   "cell_type": "code",
   "execution_count": 8,
   "metadata": {},
   "outputs": [
    {
     "name": "stdout",
     "output_type": "stream",
     "text": [
      "Your number is negative\n"
     ]
    }
   ],
   "source": [
    "number = int(input(\"Please enter a number\"))\n",
    "\n",
    "\n",
    "if number > 0:\n",
    "    print(\"Your number is positive\")\n",
    "elif number == 0:\n",
    "    print(\"Your number is 0\")\n",
    "else:\n",
    "    print(\"Your number is negative\")"
   ]
  },
  {
   "cell_type": "markdown",
   "metadata": {},
   "source": [
    "---\n",
    "## 2. Smallest (*)\n",
    "Ask the user to input two numbers and check which one is the smallest and print it out.   "
   ]
  },
  {
   "cell_type": "code",
   "execution_count": 11,
   "metadata": {},
   "outputs": [
    {
     "name": "stdout",
     "output_type": "stream",
     "text": [
      "3456 is the smallest number\n"
     ]
    }
   ],
   "source": [
    "number_1 = int(input(\"Please enter first number\"))\n",
    "number_2 = int(input(\"Please enter a second number\"))\n",
    "\n",
    "if number_1 < number_2:\n",
    "    print(f\"{number_1} is the smallest number\")\n",
    "if number_2 < number_1:\n",
    "    print(f\"{number_2} is the smallest number\")\n",
    "elif number_1 == number_2:\n",
    "    print(\"Your numbers are equal\")\n"
   ]
  },
  {
   "cell_type": "markdown",
   "metadata": {},
   "source": [
    "---\n",
    "## 3. Right angle (*)\n",
    "\n",
    "Ask the user to input three angles and check if the triangle has a right angle. Your code should make sure that all three angles are valid and make up a triangle.\n",
    "\n",
    "<img align=\"left\" src=\"../assets/triangle_angles.png\" width=\"200\"/>"
   ]
  },
  {
   "cell_type": "code",
   "execution_count": 2,
   "metadata": {},
   "outputs": [
    {
     "name": "stdout",
     "output_type": "stream",
     "text": [
      "Your triangle is valid.\n",
      "Your angle has a right angle\n"
     ]
    }
   ],
   "source": [
    "angle_a = int(input(\"Please enter angle a:\"))\n",
    "angle_b = int(input(\"Please enter angle b:\"))\n",
    "angle_c = int(input(\"Please enter angle c:\"))\n",
    "total_angle = 180\n",
    "right_angle = 90\n",
    "\n",
    "\n",
    "if (angle_a + angle_b + angle_c) == total_angle:\n",
    "    print(\"Your triangle is valid.\")\n",
    "if (angle_a) == right_angle:\n",
    "    print(f\"Your angle has a right angle\")\n",
    "elif (angle_b) == right_angle:\n",
    "    print(f\"Your angle has a right angle\")\n",
    "elif (angle_c) == right_angle:\n",
    "    print(f\"Your angle has a right angle\")\n",
    "elif (angle_a + angle_b + angle_c) != total_angle:\n",
    "    print(\"Your angles does not represent a triangle\")\n",
    "    \n",
    "\n",
    "\n",
    "\n",
    "\n",
    "\n"
   ]
  },
  {
   "cell_type": "markdown",
   "metadata": {},
   "source": [
    "----\n",
    "## 4. Medicine (*)\n",
    "\n",
    "The information in the following table is stated in a medicine package. Also it is stated that for children weight is more important than age.\n",
    "\n",
    "<table align=\"left\">\n",
    "<thead>\n",
    "    <tr>\n",
    "        <th></th>\n",
    "        <th>Age</th>\n",
    "        <th>Number of pills</th>\n",
    "    </tr>\n",
    "</thead>\n",
    "\n",
    "<tbody>\n",
    "  <tr>\n",
    "    <td>Adults & adolescent <br>over 40 kg</td>\n",
    "    <td>over 12 years</td>\n",
    "    <td>1-2</td>\n",
    "  </tr>\n",
    "\n",
    "  <tr>\n",
    "    <td>Children 26-40 kg</td>\n",
    "    <td>7-12 years</td>\n",
    "    <td>1/2-1</td>\n",
    "  </tr>\n",
    "\n",
    "  <tr>\n",
    "    <td>Children 15-25 kg</td>\n",
    "    <td>3-7 years</td>\n",
    "    <td>1/2</td>\n",
    "  </tr>\n",
    "</tbody>\n",
    "</table>"
   ]
  },
  {
   "cell_type": "code",
   "execution_count": 18,
   "metadata": {},
   "outputs": [
    {
     "name": "stdout",
     "output_type": "stream",
     "text": [
      "These pills are not for you!\n"
     ]
    }
   ],
   "source": [
    "age = int(input(\"Please enter your age\"))\n",
    "weight = int(input(\"Please enter your weight\"))\n",
    "\n",
    "\n",
    "\n",
    "if weight >= 40 and age > 12:\n",
    "    print(\"The recommended number of pills is 1-2.\")\n",
    "\n",
    "elif weight > 26 and weight < 40:\n",
    "    print(\"The recommended number of pills is 1/2 - 1.\")\n",
    "\n",
    "elif weight > 15 and weight < 25:\n",
    "    print(\"The recommended number of pils is 1/2.\")\n",
    "\n",
    "elif weight < 15:\n",
    "    print(\"These pills are not for you!\")\n",
    "\n"
   ]
  },
  {
   "cell_type": "markdown",
   "metadata": {},
   "source": [
    "Let the user input an **age** and a **weight**, the program should recommend the number of pills for the user."
   ]
  },
  {
   "cell_type": "markdown",
   "metadata": {},
   "source": [
    "---\n",
    "## 5. Divisible (*)\n",
    "Let the user input a number. Check if the number is\n",
    "<ol type=\"a\">\n",
    "  <li>even or odd</li>\n",
    "  <li>is divisible by 5</li>\n",
    "  <li>is divisble by 5 and odd</li>\n",
    "</ol> "
   ]
  },
  {
   "cell_type": "code",
   "execution_count": 4,
   "metadata": {},
   "outputs": [
    {
     "name": "stdout",
     "output_type": "stream",
     "text": [
      "Your number is even.\n",
      "Your number is divisble by 5.\n"
     ]
    }
   ],
   "source": [
    "import numpy as np\n",
    "number = int(input(\"Enter a number\"))\n",
    "\n",
    "if number % 2 == 0:\n",
    "    print(\"Your number is even.\")\n",
    "else:\n",
    "    print(\"Your number is odd.\")\n",
    "\n",
    "if number % 5 == 0:\n",
    "    print(\"Your number is divisble by 5.\")\n",
    "else:\n",
    "    print(\"Your number is not divisble by 5\")\n",
    "\n",
    "if number % 5 == 0 & number % 5 != 0:\n",
    "    print(\"Your number is odd and divisble by 5\")\n"
   ]
  },
  {
   "cell_type": "markdown",
   "metadata": {},
   "source": [
    "---\n",
    "## 6. Luggage size (*)\n",
    "\n",
    "The maximum allowed luggage size for boarding an airplane is: \n",
    "- weight: 8kg\n",
    "- dimensions: 55x40x23cm (length x width x height) \n",
    "\n",
    "Let the user input weight, length, width and height of the luggage. The program should check if the luggage is allowed or not."
   ]
  },
  {
   "cell_type": "code",
   "execution_count": 5,
   "metadata": {},
   "outputs": [
    {
     "name": "stdout",
     "output_type": "stream",
     "text": [
      "Your luggage meets the requirements\n"
     ]
    }
   ],
   "source": [
    "weight = int(input(f\"Please enter your luggage weight\"))\n",
    "lenght = int(input(\"Please enter the lenght of your luggage\"))\n",
    "width = int(input(\"Please enter the width of your luggage\"))\n",
    "height = int(input(\"Please enter the height of your luggage\"))\n",
    "\n",
    "weight_max = 8\n",
    "lenght_max = 55\n",
    "width_max = 40\n",
    "height_max = 23\n",
    "\n",
    "if weight > weight_max:\n",
    "    print(\"Your luggage is to heavy.\")\n",
    "elif lenght > lenght_max:\n",
    "    print(\"Your luggage does not meet the requirements.\")\n",
    "elif width > width_max:\n",
    "    print(\"Your luggage does not meet the requirements.\")\n",
    "elif height > height_max:\n",
    "    print(\"Your luggage does not meet the requirements.\")\n",
    "else:\n",
    "    print(\"Your luggage meets the requirements\")\n",
    "\n",
    "\n",
    "\n",
    "\n",
    "\n",
    "\n"
   ]
  },
  {
   "cell_type": "markdown",
   "metadata": {},
   "source": [
    "---\n",
    "\n",
    "pr0fez Giang\n",
    "\n",
    "[LinkedIn][linkedIn_pr0fez]\n",
    "\n",
    "[GitHub portfolio][github_portfolio]\n",
    "\n",
    "[linkedIn_pr0fez]: https://www.linkedin.com/in/pr0fezgiang/\n",
    "[github_portfolio]: https://github.com/pr0fez/Portfolio-pr0fez-Giang\n",
    "\n",
    "---"
   ]
  }
 ],
 "metadata": {
  "kernelspec": {
   "display_name": "Python 3.9.6 64-bit",
   "language": "python",
   "name": "python3"
  },
  "language_info": {
   "codemirror_mode": {
    "name": "ipython",
    "version": 3
   },
   "file_extension": ".py",
   "mimetype": "text/x-python",
   "name": "python",
   "nbconvert_exporter": "python",
   "pygments_lexer": "ipython3",
   "version": "3.12.5"
  },
  "orig_nbformat": 4,
  "vscode": {
   "interpreter": {
    "hash": "0da836a34428266995a795f1e1e27b816fa1c02f148d9728b3fbbbc5459afca6"
   }
  }
 },
 "nbformat": 4,
 "nbformat_minor": 2
}
